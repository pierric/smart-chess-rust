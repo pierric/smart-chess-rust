{
 "cells": [
  {
   "cell_type": "code",
   "execution_count": 1,
   "id": "3f7d064c-a56c-4711-85c6-5f8c9748d628",
   "metadata": {},
   "outputs": [],
   "source": [
    "import torch\n",
    "import nn"
   ]
  },
  {
   "cell_type": "code",
   "execution_count": 2,
   "id": "5f8bea8e-3a81-4abb-8231-cf0d19a348b0",
   "metadata": {},
   "outputs": [
    {
     "name": "stderr",
     "output_type": "stream",
     "text": [
      "amdgpu.ids: No such file or directory\n"
     ]
    }
   ],
   "source": [
    "err_inp = torch.jit.load(\"../badinput.tensor\").state_dict()[\"0\"]"
   ]
  },
  {
   "cell_type": "code",
   "execution_count": 3,
   "id": "12731ac5-c75b-4068-a9df-e3186e56c6e7",
   "metadata": {},
   "outputs": [
    {
     "data": {
      "text/plain": [
       "tensor([[[ 0.,  0.,  0.,  0.,  0.,  0.,  0.,  0.],\n",
       "         [ 0.,  0.,  0.,  0.,  0.,  0.,  0.,  0.],\n",
       "         [ 0.,  0.,  0.,  0.,  0.,  0.,  0.,  0.],\n",
       "         [ 0.,  0.,  0.,  0.,  0.,  0.,  0.,  0.],\n",
       "         [ 0.,  0.,  0.,  0.,  0.,  0.,  0.,  0.],\n",
       "         [ 0.,  0.,  0.,  0.,  0.,  0.,  0.,  0.],\n",
       "         [ 0.,  0.,  0.,  0.,  0.,  0.,  0.,  0.],\n",
       "         [ 0.,  0.,  0.,  0.,  0.,  0.,  0.,  0.]],\n",
       "\n",
       "        [[72., 72., 72., 72., 72., 72., 72., 72.],\n",
       "         [72., 72., 72., 72., 72., 72., 72., 72.],\n",
       "         [72., 72., 72., 72., 72., 72., 72., 72.],\n",
       "         [72., 72., 72., 72., 72., 72., 72., 72.],\n",
       "         [72., 72., 72., 72., 72., 72., 72., 72.],\n",
       "         [72., 72., 72., 72., 72., 72., 72., 72.],\n",
       "         [72., 72., 72., 72., 72., 72., 72., 72.],\n",
       "         [72., 72., 72., 72., 72., 72., 72., 72.]],\n",
       "\n",
       "        [[ 0.,  0.,  0.,  0.,  0.,  0.,  0.,  0.],\n",
       "         [ 0.,  0.,  0.,  0.,  0.,  0.,  0.,  0.],\n",
       "         [ 0.,  0.,  0.,  0.,  0.,  0.,  0.,  0.],\n",
       "         [ 0.,  0.,  0.,  0.,  0.,  0.,  0.,  0.],\n",
       "         [ 0.,  0.,  0.,  0.,  0.,  0.,  0.,  0.],\n",
       "         [ 0.,  0.,  0.,  0.,  0.,  0.,  0.,  0.],\n",
       "         [ 0.,  0.,  0.,  0.,  0.,  0.,  0.,  0.],\n",
       "         [ 0.,  0.,  0.,  0.,  0.,  0.,  0.,  0.]],\n",
       "\n",
       "        [[ 0.,  0.,  0.,  0.,  0.,  0.,  0.,  0.],\n",
       "         [ 0.,  0.,  0.,  0.,  0.,  0.,  0.,  0.],\n",
       "         [ 0.,  0.,  0.,  0.,  0.,  0.,  0.,  0.],\n",
       "         [ 0.,  0.,  0.,  0.,  0.,  0.,  0.,  0.],\n",
       "         [ 0.,  0.,  0.,  0.,  0.,  0.,  0.,  0.],\n",
       "         [ 0.,  0.,  0.,  0.,  0.,  0.,  0.,  0.],\n",
       "         [ 0.,  0.,  0.,  0.,  0.,  0.,  0.,  0.],\n",
       "         [ 0.,  0.,  0.,  0.,  0.,  0.,  0.,  0.]],\n",
       "\n",
       "        [[ 0.,  0.,  0.,  0.,  0.,  0.,  0.,  0.],\n",
       "         [ 0.,  0.,  0.,  0.,  0.,  0.,  0.,  0.],\n",
       "         [ 0.,  0.,  0.,  0.,  0.,  0.,  0.,  0.],\n",
       "         [ 0.,  0.,  0.,  0.,  0.,  0.,  0.,  0.],\n",
       "         [ 0.,  0.,  0.,  0.,  0.,  0.,  0.,  0.],\n",
       "         [ 0.,  0.,  0.,  0.,  0.,  0.,  0.,  0.],\n",
       "         [ 0.,  0.,  0.,  0.,  0.,  0.,  0.,  0.],\n",
       "         [ 0.,  0.,  0.,  0.,  0.,  0.,  0.,  0.]],\n",
       "\n",
       "        [[ 0.,  0.,  0.,  0.,  0.,  0.,  0.,  0.],\n",
       "         [ 0.,  0.,  0.,  0.,  0.,  0.,  0.,  0.],\n",
       "         [ 0.,  0.,  0.,  0.,  0.,  0.,  0.,  0.],\n",
       "         [ 0.,  0.,  0.,  0.,  0.,  0.,  0.,  0.],\n",
       "         [ 0.,  0.,  0.,  0.,  0.,  0.,  0.,  0.],\n",
       "         [ 0.,  0.,  0.,  0.,  0.,  0.,  0.,  0.],\n",
       "         [ 0.,  0.,  0.,  0.,  0.,  0.,  0.,  0.],\n",
       "         [ 0.,  0.,  0.,  0.,  0.,  0.,  0.,  0.]],\n",
       "\n",
       "        [[26., 26., 26., 26., 26., 26., 26., 26.],\n",
       "         [26., 26., 26., 26., 26., 26., 26., 26.],\n",
       "         [26., 26., 26., 26., 26., 26., 26., 26.],\n",
       "         [26., 26., 26., 26., 26., 26., 26., 26.],\n",
       "         [26., 26., 26., 26., 26., 26., 26., 26.],\n",
       "         [26., 26., 26., 26., 26., 26., 26., 26.],\n",
       "         [26., 26., 26., 26., 26., 26., 26., 26.],\n",
       "         [26., 26., 26., 26., 26., 26., 26., 26.]]], device='cuda:0')"
      ]
     },
     "execution_count": 3,
     "metadata": {},
     "output_type": "execute_result"
    }
   ],
   "source": [
    "s = 8\n",
    "err_inp[0, s*14:s*14+14, :, :]"
   ]
  },
  {
   "cell_type": "code",
   "execution_count": 4,
   "id": "ea2df85c-8dd6-4b24-9c73-730834eb805b",
   "metadata": {},
   "outputs": [
    {
     "data": {
      "text/plain": [
       "tensor([ 0., 72.,  0.,  0.,  0.,  0., 26.], device='cuda:0')"
      ]
     },
     "execution_count": 4,
     "metadata": {},
     "output_type": "execute_result"
    }
   ],
   "source": [
    "err_inp[0, 112:119, 0, 0]"
   ]
  },
  {
   "cell_type": "code",
   "execution_count": 5,
   "id": "114e47e4-0566-45be-9b7a-2fa4c43befc1",
   "metadata": {},
   "outputs": [],
   "source": [
    "model_name = \"../runs/016/tb_logs/chess/version_4/epoch:8-2.907-0.314\"\n",
    "model_ckpt = model_name + \".ckpt\"\n",
    "model_pt = model_name + \".pt\""
   ]
  },
  {
   "cell_type": "code",
   "execution_count": 6,
   "id": "e37408f4-6d99-4a49-9609-6cdc05b2806b",
   "metadata": {},
   "outputs": [
    {
     "name": "stdout",
     "output_type": "stream",
     "text": [
      "..loading checkpoint:  ../runs/016/tb_logs/chess/version_4/epoch:8-2.907-0.314.ckpt\n"
     ]
    }
   ],
   "source": [
    "pt = torch.jit.load(model_pt)\n",
    "\n",
    "orig_module = nn.ChessModule19()\n",
    "orig_module.load_state_dict(torch.load(model_ckpt, weights_only=True), strict=True)\n",
    "orig_module = orig_module.eval()\n",
    "orig_module.cuda()\n",
    "\n",
    "inuse_module = nn.load_model(checkpoint=model_ckpt, inference=True, compile=False, device=\"cuda\")"
   ]
  },
  {
   "cell_type": "code",
   "execution_count": 7,
   "id": "af4afb66-7d28-4966-a412-f2767e3b39f1",
   "metadata": {},
   "outputs": [
    {
     "data": {
      "text/plain": [
       "(tensor([[-11.9228, -20.6833, -21.3826,  ..., -17.9548, -17.9068, -17.8975]],\n",
       "        device='cuda:0'),\n",
       " tensor([[0.0063]], device='cuda:0'))"
      ]
     },
     "execution_count": 7,
     "metadata": {},
     "output_type": "execute_result"
    }
   ],
   "source": [
    "with torch.no_grad():\n",
    "    o = orig_module(err_inp)\n",
    "o"
   ]
  },
  {
   "cell_type": "code",
   "execution_count": 8,
   "id": "2df056b2-be1c-4f7e-ab56-c14baa3cfd41",
   "metadata": {},
   "outputs": [
    {
     "data": {
      "text/plain": [
       "(tensor([[-11.9228, -20.6833, -21.3826,  ..., -17.9548, -17.9068, -17.8975]],\n",
       "        device='cuda:0'),\n",
       " tensor([[0.0063]], device='cuda:0'))"
      ]
     },
     "execution_count": 8,
     "metadata": {},
     "output_type": "execute_result"
    }
   ],
   "source": [
    "with torch.no_grad():\n",
    "    o = inuse_module(err_inp)\n",
    "o"
   ]
  },
  {
   "cell_type": "code",
   "execution_count": 10,
   "id": "e99f1df8-2341-446f-9e48-fd9689a2c2e7",
   "metadata": {},
   "outputs": [
    {
     "data": {
      "text/plain": [
       "(tensor([[-12.0000, -20.7500, -21.3750,  ..., -18.0000, -18.0000, -18.0000]],\n",
       "        device='cuda:0', dtype=torch.bfloat16),\n",
       " tensor([[0.0063]], device='cuda:0', dtype=torch.bfloat16))"
      ]
     },
     "execution_count": 10,
     "metadata": {},
     "output_type": "execute_result"
    }
   ],
   "source": [
    "pt(err_inp.bfloat16())"
   ]
  },
  {
   "cell_type": "markdown",
   "id": "8ec3af7d-d671-4802-9e28-954eea18e3b6",
   "metadata": {},
   "source": [
    "----"
   ]
  },
  {
   "cell_type": "code",
   "execution_count": 11,
   "id": "79ed7f38-fb12-4443-a6dd-e930ceb26753",
   "metadata": {},
   "outputs": [],
   "source": [
    "x = torch.randn(1, 119, 8, 8, dtype=torch.float32).cuda()\n",
    "with torch.no_grad():\n",
    "    with torch.autocast(device_type=\"cuda\", dtype=torch.float16, cache_enabled=False):\n",
    "        orig_module_jit = torch.jit.trace(orig_module, [x])"
   ]
  },
  {
   "cell_type": "code",
   "execution_count": 12,
   "id": "723cddfe-8db3-4f07-ba98-b2199016c999",
   "metadata": {},
   "outputs": [
    {
     "data": {
      "text/plain": [
       "(tensor([[-11.9156, -20.6812, -21.3843,  ..., -17.9546, -17.9077, -17.8999]],\n",
       "        device='cuda:0', grad_fn=<LogSoftmaxBackward0>),\n",
       " tensor([[0.0063]], device='cuda:0', dtype=torch.float16,\n",
       "        grad_fn=<TanhBackward0>))"
      ]
     },
     "execution_count": 12,
     "metadata": {},
     "output_type": "execute_result"
    }
   ],
   "source": [
    "orig_module_jit(err_inp)"
   ]
  },
  {
   "cell_type": "code",
   "execution_count": 13,
   "id": "b09cebe4-20c3-4fa4-bb57-b0fa6f7d719a",
   "metadata": {},
   "outputs": [],
   "source": [
    "orig_module_script = torch.jit.script(orig_module)"
   ]
  },
  {
   "cell_type": "code",
   "execution_count": 14,
   "id": "87197af3-bc18-434f-81b3-624938365924",
   "metadata": {},
   "outputs": [
    {
     "data": {
      "text/plain": [
       "(tensor([[-11.9230, -20.6887, -21.3762,  ..., -17.9543, -17.9074, -17.8996]],\n",
       "        device='cuda:0'),\n",
       " tensor([[0.0063]], device='cuda:0', dtype=torch.float16))"
      ]
     },
     "execution_count": 14,
     "metadata": {},
     "output_type": "execute_result"
    }
   ],
   "source": [
    "with torch.no_grad():\n",
    "    with torch.autocast(device_type=\"cuda\"):\n",
    "        o = orig_module_script(err_inp)\n",
    "o"
   ]
  },
  {
   "cell_type": "code",
   "execution_count": 15,
   "id": "f471f69d-838a-4324-a52a-ef75482d51b7",
   "metadata": {},
   "outputs": [
    {
     "data": {
      "text/plain": [
       "(tensor(0.2235, device='cuda:0', dtype=torch.float16),\n",
       " tensor(0.2473, device='cuda:0', dtype=torch.float16))"
      ]
     },
     "execution_count": 15,
     "metadata": {},
     "output_type": "execute_result"
    }
   ],
   "source": [
    "with torch.no_grad():\n",
    "    with torch.autocast(device_type=\"cuda\"):\n",
    "        o = orig_module_script.conv_block(err_inp)\n",
    "        for i in range(10):\n",
    "            o = orig_module_script.res_blocks[i](o)\n",
    "        o2 = orig_module_script.res_blocks[10](o)\n",
    "o.mean(), o2.mean()"
   ]
  },
  {
   "cell_type": "code",
   "execution_count": 16,
   "id": "6abc76c0-03c0-47f6-ba45-2ee7c3d94b87",
   "metadata": {},
   "outputs": [
    {
     "data": {
      "text/plain": [
       "(tensor([[-12.0000, -20.7500, -21.3750,  ..., -18.0000, -18.0000, -18.0000]],\n",
       "        device='cuda:0', dtype=torch.bfloat16),\n",
       " tensor([[0.0063]], device='cuda:0', dtype=torch.bfloat16))"
      ]
     },
     "execution_count": 16,
     "metadata": {},
     "output_type": "execute_result"
    }
   ],
   "source": [
    "orig_module_script = torch.jit.script(orig_module.bfloat16())\n",
    "orig_module_script = torch.jit.optimize_for_inference(orig_module_script)\n",
    "with torch.no_grad():\n",
    "    o = orig_module_script(err_inp.bfloat16())\n",
    "o"
   ]
  },
  {
   "cell_type": "code",
   "execution_count": 17,
   "id": "ff14909c-7281-4abb-886a-0b2809acb488",
   "metadata": {},
   "outputs": [
    {
     "ename": "AttributeError",
     "evalue": "'RecursiveScriptModule' object has no attribute 'res_blocks'",
     "output_type": "error",
     "traceback": [
      "\u001b[0;31m---------------------------------------------------------------------------\u001b[0m",
      "\u001b[0;31mAttributeError\u001b[0m                            Traceback (most recent call last)",
      "Cell \u001b[0;32mIn[17], line 1\u001b[0m\n\u001b[0;32m----> 1\u001b[0m \u001b[43morig_module_script\u001b[49m\u001b[38;5;241;43m.\u001b[39;49m\u001b[43mres_blocks\u001b[49m[\u001b[38;5;241m0\u001b[39m]\n",
      "File \u001b[0;32m~/workspace/smart-chess-rust/.venv/lib/python3.12/site-packages/torch/jit/_script.py:826\u001b[0m, in \u001b[0;36mRecursiveScriptModule.__getattr__\u001b[0;34m(self, attr)\u001b[0m\n\u001b[1;32m    823\u001b[0m     \u001b[38;5;28mself\u001b[39m\u001b[38;5;241m.\u001b[39m\u001b[38;5;18m__dict__\u001b[39m[attr] \u001b[38;5;241m=\u001b[39m script_method\n\u001b[1;32m    824\u001b[0m     \u001b[38;5;28;01mreturn\u001b[39;00m script_method\n\u001b[0;32m--> 826\u001b[0m \u001b[38;5;28;01mreturn\u001b[39;00m \u001b[38;5;28;43msuper\u001b[39;49m\u001b[43m(\u001b[49m\u001b[43m)\u001b[49m\u001b[38;5;241;43m.\u001b[39;49m\u001b[38;5;21;43m__getattr__\u001b[39;49m\u001b[43m(\u001b[49m\u001b[43mattr\u001b[49m\u001b[43m)\u001b[49m\n",
      "File \u001b[0;32m~/workspace/smart-chess-rust/.venv/lib/python3.12/site-packages/torch/jit/_script.py:533\u001b[0m, in \u001b[0;36mScriptModule.__getattr__\u001b[0;34m(self, attr)\u001b[0m\n\u001b[1;32m    531\u001b[0m \u001b[38;5;28;01mdef\u001b[39;00m \u001b[38;5;21m__getattr__\u001b[39m(\u001b[38;5;28mself\u001b[39m, attr):\n\u001b[1;32m    532\u001b[0m     \u001b[38;5;28;01mif\u001b[39;00m \u001b[38;5;124m\"\u001b[39m\u001b[38;5;124m_actual_script_module\u001b[39m\u001b[38;5;124m\"\u001b[39m \u001b[38;5;129;01mnot\u001b[39;00m \u001b[38;5;129;01min\u001b[39;00m \u001b[38;5;28mself\u001b[39m\u001b[38;5;241m.\u001b[39m\u001b[38;5;18m__dict__\u001b[39m:\n\u001b[0;32m--> 533\u001b[0m         \u001b[38;5;28;01mreturn\u001b[39;00m \u001b[38;5;28;43msuper\u001b[39;49m\u001b[43m(\u001b[49m\u001b[43m)\u001b[49m\u001b[38;5;241;43m.\u001b[39;49m\u001b[38;5;21;43m__getattr__\u001b[39;49m\u001b[43m(\u001b[49m\u001b[43mattr\u001b[49m\u001b[43m)\u001b[49m\n\u001b[1;32m    534\u001b[0m     \u001b[38;5;28;01mreturn\u001b[39;00m \u001b[38;5;28mgetattr\u001b[39m(\u001b[38;5;28mself\u001b[39m\u001b[38;5;241m.\u001b[39m_actual_script_module, attr)\n",
      "File \u001b[0;32m~/workspace/smart-chess-rust/.venv/lib/python3.12/site-packages/torch/nn/modules/module.py:1931\u001b[0m, in \u001b[0;36mModule.__getattr__\u001b[0;34m(self, name)\u001b[0m\n\u001b[1;32m   1929\u001b[0m     \u001b[38;5;28;01mif\u001b[39;00m name \u001b[38;5;129;01min\u001b[39;00m modules:\n\u001b[1;32m   1930\u001b[0m         \u001b[38;5;28;01mreturn\u001b[39;00m modules[name]\n\u001b[0;32m-> 1931\u001b[0m \u001b[38;5;28;01mraise\u001b[39;00m \u001b[38;5;167;01mAttributeError\u001b[39;00m(\n\u001b[1;32m   1932\u001b[0m     \u001b[38;5;124mf\u001b[39m\u001b[38;5;124m\"\u001b[39m\u001b[38;5;124m'\u001b[39m\u001b[38;5;132;01m{\u001b[39;00m\u001b[38;5;28mtype\u001b[39m(\u001b[38;5;28mself\u001b[39m)\u001b[38;5;241m.\u001b[39m\u001b[38;5;18m__name__\u001b[39m\u001b[38;5;132;01m}\u001b[39;00m\u001b[38;5;124m'\u001b[39m\u001b[38;5;124m object has no attribute \u001b[39m\u001b[38;5;124m'\u001b[39m\u001b[38;5;132;01m{\u001b[39;00mname\u001b[38;5;132;01m}\u001b[39;00m\u001b[38;5;124m'\u001b[39m\u001b[38;5;124m\"\u001b[39m\n\u001b[1;32m   1933\u001b[0m )\n",
      "\u001b[0;31mAttributeError\u001b[0m: 'RecursiveScriptModule' object has no attribute 'res_blocks'"
     ]
    }
   ],
   "source": [
    "orig_module_script.res_blocks[0]"
   ]
  },
  {
   "cell_type": "code",
   "execution_count": 139,
   "id": "d7b12157-e542-4fd4-9692-1d64579e8182",
   "metadata": {},
   "outputs": [
    {
     "data": {
      "text/plain": [
       "(tensor([[-11.2500, -15.2500, -14.0000,  ..., -17.8750, -18.1250, -18.0000]],\n",
       "        device='cuda:0', dtype=torch.bfloat16),\n",
       " tensor([[-1.]], device='cuda:0', dtype=torch.bfloat16))"
      ]
     },
     "execution_count": 139,
     "metadata": {},
     "output_type": "execute_result"
    }
   ],
   "source": [
    "mm = torch.jit.script(orig_module.bfloat16())\n",
    "mm = torch.compile(mm, mode=\"reduce-overhead\", fullgraph=True)\n",
    "with torch.no_grad():\n",
    "    o = mm(err_inp.bfloat16())\n",
    "o"
   ]
  },
  {
   "cell_type": "code",
   "execution_count": 20,
   "id": "553beb5e-1462-4574-a31c-0e918c66ae26",
   "metadata": {},
   "outputs": [],
   "source": [
    "t = err_inp.bfloat16()"
   ]
  },
  {
   "cell_type": "code",
   "execution_count": 140,
   "id": "5df20994-6a73-4bc7-9ab2-ab538dfaec67",
   "metadata": {},
   "outputs": [
    {
     "name": "stdout",
     "output_type": "stream",
     "text": [
      "3.9 ms ± 21.9 μs per loop (mean ± std. dev. of 7 runs, 100 loops each)\n"
     ]
    }
   ],
   "source": [
    "%timeit with torch.no_grad(): mm(t)"
   ]
  },
  {
   "cell_type": "code",
   "execution_count": 141,
   "id": "a7b01eb3-ebac-40e1-b3dd-c894c4ff9703",
   "metadata": {},
   "outputs": [
    {
     "name": "stdout",
     "output_type": "stream",
     "text": [
      "2.69 ms ± 56.2 μs per loop (mean ± std. dev. of 7 runs, 100 loops each)\n"
     ]
    }
   ],
   "source": [
    "%timeit with torch.no_grad(): orig_module_script(t)"
   ]
  },
  {
   "cell_type": "markdown",
   "id": "d73fd2f7-e1f6-4634-a457-f73470331e00",
   "metadata": {},
   "source": []
  },
  {
   "cell_type": "code",
   "execution_count": 28,
   "id": "30508df4-7874-47b5-aeb7-ab31def7a2e7",
   "metadata": {},
   "outputs": [],
   "source": [
    "pt11 = torch.jit.load(\"../runs/000/last-bf16-l11.pt\")\n",
    "pt13 = torch.jit.load(\"../runs/000/last-bf16-l13.pt\")\n",
    "pt19 = torch.jit.load(\"../runs/000/last-bf16-l19.pt\")"
   ]
  },
  {
   "cell_type": "code",
   "execution_count": 35,
   "id": "7c74e2f2-8f84-45ec-a2ea-52d85c20020f",
   "metadata": {},
   "outputs": [
    {
     "name": "stdout",
     "output_type": "stream",
     "text": [
      "1.81 ms ± 74.6 μs per loop (mean ± std. dev. of 7 runs, 1,000 loops each)\n"
     ]
    }
   ],
   "source": [
    "%timeit with torch.no_grad(): pt11(t)"
   ]
  },
  {
   "cell_type": "code",
   "execution_count": 36,
   "id": "772f3957-38ce-4e2e-a63d-d7963f4f4a85",
   "metadata": {},
   "outputs": [
    {
     "name": "stdout",
     "output_type": "stream",
     "text": [
      "2.17 ms ± 42 μs per loop (mean ± std. dev. of 7 runs, 100 loops each)\n"
     ]
    }
   ],
   "source": [
    "%timeit with torch.no_grad(): pt13(t)"
   ]
  },
  {
   "cell_type": "code",
   "execution_count": 37,
   "id": "b0558c27-7c2b-4e1c-aab8-e5ea7e900338",
   "metadata": {},
   "outputs": [
    {
     "name": "stdout",
     "output_type": "stream",
     "text": [
      "3.11 ms ± 69.9 μs per loop (mean ± std. dev. of 7 runs, 100 loops each)\n"
     ]
    }
   ],
   "source": [
    "%timeit with torch.no_grad(): pt19(t)"
   ]
  },
  {
   "cell_type": "code",
   "execution_count": null,
   "id": "c2135445-18ae-45d2-b245-eec9519d4552",
   "metadata": {},
   "outputs": [],
   "source": []
  }
 ],
 "metadata": {
  "kernelspec": {
   "display_name": "Python 3 (ipykernel)",
   "language": "python",
   "name": "python3"
  },
  "language_info": {
   "codemirror_mode": {
    "name": "ipython",
    "version": 3
   },
   "file_extension": ".py",
   "mimetype": "text/x-python",
   "name": "python",
   "nbconvert_exporter": "python",
   "pygments_lexer": "ipython3",
   "version": "3.12.8"
  }
 },
 "nbformat": 4,
 "nbformat_minor": 5
}
