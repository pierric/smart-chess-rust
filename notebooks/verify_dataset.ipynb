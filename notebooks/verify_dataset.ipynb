{
 "cells": [
  {
   "cell_type": "code",
   "execution_count": 2,
   "id": "370f6ac8-38df-4910-8550-e148296e8716",
   "metadata": {},
   "outputs": [],
   "source": [
    "from dataset import ChessDataset"
   ]
  },
  {
   "cell_type": "code",
   "execution_count": 8,
   "id": "3fe025c4-bd47-4558-9634-66f465f86fe1",
   "metadata": {},
   "outputs": [],
   "source": [
    "import json"
   ]
  },
  {
   "cell_type": "code",
   "execution_count": 9,
   "id": "f4f820b8-6aa8-48b0-ba8a-f123ae8756e7",
   "metadata": {},
   "outputs": [],
   "source": [
    "trace = json.load(open(\"../runs/001/b1/trace1.json\"))"
   ]
  },
  {
   "cell_type": "code",
   "execution_count": 11,
   "id": "ad3263b2-332a-4fd0-8d44-52f790dab320",
   "metadata": {},
   "outputs": [],
   "source": [
    "trace_steps = trace[\"steps\"]"
   ]
  },
  {
   "cell_type": "code",
   "execution_count": 12,
   "id": "9018ad14-b4a3-416e-9e14-6e213597a38d",
   "metadata": {},
   "outputs": [
    {
     "data": {
      "text/plain": [
       "['c1b2',\n",
       " 0.7244720458984375,\n",
       " [['a2a3', 9, 0.1295166015625],\n",
       "  ['a2b2', 6, 0.080413818359375],\n",
       "  ['a2a1', 5, 0.077667236328125],\n",
       "  ['h1h2', 5, 0.059600830078125],\n",
       "  ['g1f3', 6, 0.07940673828125],\n",
       "  ['e1f2', 4, 0.0419769287109375],\n",
       "  ['c1a3', 5, 0.0835723876953125],\n",
       "  ['c1b2', 5, 0.08038330078125],\n",
       "  ['b1c3', 4, 0.045074462890625],\n",
       "  ['b1a3', 7, 0.09637451171875],\n",
       "  ['f4f5', 4, -0.00775146484375],\n",
       "  ['a4a5', 6, -0.006561279296875],\n",
       "  ['h3h4', 10, 0.017333984375],\n",
       "  ['g2g3', 4, -0.0107879638671875],\n",
       "  ['e2e3', 5, -0.007415771484375],\n",
       "  ['d2d3', 8, 0.0045013427734375],\n",
       "  ['c2c3', 4, -0.0107421875],\n",
       "  ['g2g4', 4, -0.0136260986328125],\n",
       "  ['e2e4', 12, 0.001434326171875],\n",
       "  ['d2d4', 4, -0.011474609375],\n",
       "  ['c2c4', 5, -0.0079345703125]]]"
      ]
     },
     "execution_count": 12,
     "metadata": {},
     "output_type": "execute_result"
    }
   ],
   "source": [
    "trace_steps[10]"
   ]
  },
  {
   "cell_type": "code",
   "execution_count": null,
   "id": "5e9981b9-4ab3-4cd8-b909-e42a5885bae1",
   "metadata": {},
   "outputs": [],
   "source": []
  },
  {
   "cell_type": "code",
   "execution_count": 5,
   "id": "4f6251d9-993c-4c4b-b7f4-3176fbe5a75e",
   "metadata": {},
   "outputs": [],
   "source": [
    "ds = ChessDataset(\"../runs/001/b1/trace1.json\")"
   ]
  },
  {
   "cell_type": "code",
   "execution_count": 13,
   "id": "aa7f9c9c-72a6-4fb2-82e3-1ccda1c47743",
   "metadata": {},
   "outputs": [
    {
     "data": {
      "text/plain": [
       "torch.Size([119, 8, 8])"
      ]
     },
     "execution_count": 13,
     "metadata": {},
     "output_type": "execute_result"
    }
   ],
   "source": [
    "ds[10][0].shape"
   ]
  },
  {
   "cell_type": "code",
   "execution_count": null,
   "id": "b1ae7927-2256-409d-ad4c-174a0ba57ef5",
   "metadata": {},
   "outputs": [],
   "source": []
  }
 ],
 "metadata": {
  "kernelspec": {
   "display_name": "Python 3 (ipykernel)",
   "language": "python",
   "name": "python3"
  },
  "language_info": {
   "codemirror_mode": {
    "name": "ipython",
    "version": 3
   },
   "file_extension": ".py",
   "mimetype": "text/x-python",
   "name": "python",
   "nbconvert_exporter": "python",
   "pygments_lexer": "ipython3",
   "version": "3.12.8"
  }
 },
 "nbformat": 4,
 "nbformat_minor": 5
}
