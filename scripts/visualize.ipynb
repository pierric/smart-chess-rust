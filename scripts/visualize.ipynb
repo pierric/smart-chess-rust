{
 "cells": [
  {
   "cell_type": "code",
   "execution_count": 84,
   "metadata": {},
   "outputs": [],
   "source": [
    "from ipywidgets import interactive, interact\n",
    "import ipywidgets as widgets\n",
    "from IPython.display import SVG, display\n",
    "from matplotlib import colormaps\n",
    "\n",
    "import json\n",
    "import chess"
   ]
  },
  {
   "cell_type": "code",
   "execution_count": 123,
   "metadata": {},
   "outputs": [],
   "source": [
    "cmap = colormaps[\"bwr\"]\n",
    "\n",
    "def hexify(f):\n",
    "    assert f >= 0 and f <= 1\n",
    "    return f\"{int(f * 255):02x}\"\n",
    "\n",
    "def get_color(val):\n",
    "    r, g, b, _ = cmap(val)\n",
    "    return f\"#{hexify(r)}{hexify(g)}{hexify(b)}77\"    "
   ]
  },
  {
   "cell_type": "code",
   "execution_count": 130,
   "metadata": {},
   "outputs": [
    {
     "data": {
      "application/vnd.jupyter.widget-view+json": {
       "model_id": "4a503ee042a14553b4ed1aa430f4cee8",
       "version_major": 2,
       "version_minor": 0
      },
      "text/plain": [
       "interactive(children=(IntSlider(value=0, description='step', max=9), Output()), _dom_classes=('widget-interact…"
      ]
     },
     "metadata": {},
     "output_type": "display_data"
    }
   ],
   "source": [
    "with open(\"../trace.json\") as f:\n",
    "    trace = json.load(f)\n",
    "    \n",
    "def f(step=widgets.IntSlider(min=0, max=len(trace)-1, step=1, value=0)):\n",
    "    b = chess.Board()\n",
    "    for move in trace[1:step+1]:\n",
    "        b.push(chess.Move.from_uci(move[0]))\n",
    "        \n",
    "    num_acts = trace[step][2]\n",
    "    sum_num = sum(num_acts) + 1e-4\n",
    "    score = [v / sum_num for v in num_acts]\n",
    "    distr = sorted(zip(b.legal_moves, score), key=lambda p: p[1])\n",
    "    labels = widgets.HBox([\n",
    "        widgets.Label(value=f\"{m.uci()}\", style=dict(background=get_color(c)))\n",
    "        for m, c in distr\n",
    "    ])\n",
    "    out = widgets.Output()\n",
    "    with out:\n",
    "        display(SVG(data=b._repr_svg_()))\n",
    "    return widgets.VBox([out, labels])\n",
    "\n",
    "w = interact(f);"
   ]
  },
  {
   "cell_type": "code",
   "execution_count": 142,
   "metadata": {},
   "outputs": [
    {
     "data": {
      "text/plain": [
       "105"
      ]
     },
     "execution_count": 142,
     "metadata": {},
     "output_type": "execute_result"
    }
   ],
   "source": [
    "sum(trace[8][2])"
   ]
  },
  {
   "cell_type": "code",
   "execution_count": null,
   "metadata": {},
   "outputs": [],
   "source": []
  }
 ],
 "metadata": {
  "kernelspec": {
   "display_name": "Python 3 (ipykernel)",
   "language": "python",
   "name": "python3"
  },
  "language_info": {
   "codemirror_mode": {
    "name": "ipython",
    "version": 3
   },
   "file_extension": ".py",
   "mimetype": "text/x-python",
   "name": "python",
   "nbconvert_exporter": "python",
   "pygments_lexer": "ipython3",
   "version": "3.8.18"
  }
 },
 "nbformat": 4,
 "nbformat_minor": 4
}
