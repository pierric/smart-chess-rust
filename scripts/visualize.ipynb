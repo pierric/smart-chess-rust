{
 "cells": [
  {
   "cell_type": "code",
   "execution_count": 5,
   "metadata": {},
   "outputs": [],
   "source": [
    "from ipywidgets import interactive, interact\n",
    "import ipywidgets as widgets\n",
    "from IPython.display import SVG, display\n",
    "from matplotlib import colormaps\n",
    "\n",
    "import json\n",
    "import math\n",
    "import chess"
   ]
  },
  {
   "cell_type": "code",
   "execution_count": 6,
   "metadata": {},
   "outputs": [],
   "source": [
    "cmap = colormaps[\"PuRd\"]\n",
    "\n",
    "def hexify(f):\n",
    "    assert f >= 0 and f <= 1\n",
    "    return f\"{int(f * 255):02x}\"\n",
    "\n",
    "def get_color(val):\n",
    "    if val < 1e-3:\n",
    "        return f\"#ffffff77\"\n",
    "    r, g, b, _ = cmap(val)\n",
    "    return f\"#{hexify(r)}{hexify(g)}{hexify(b)}ff\"    "
   ]
  },
  {
   "cell_type": "code",
   "execution_count": 7,
   "metadata": {},
   "outputs": [
    {
     "data": {
      "application/vnd.jupyter.widget-view+json": {
       "model_id": "45862570518347169e5395498b644583",
       "version_major": 2,
       "version_minor": 0
      },
      "text/plain": [
       "interactive(children=(IntSlider(value=0, description='step', max=200), Output()), _dom_classes=('widget-intera…"
      ]
     },
     "metadata": {},
     "output_type": "display_data"
    }
   ],
   "source": [
    "with open(\"../trace1.json\") as f:\n",
    "    trace = json.load(f)\n",
    "\n",
    "outcome = trace[\"outcome\"]\n",
    "steps = trace[\"steps\"]\n",
    "    \n",
    "def f(step=widgets.IntSlider(min=0, max=len(steps), step=1, value=0)):\n",
    "    b = chess.Board()\n",
    "    for move in steps[0:step]:\n",
    "        b.push(chess.Move.from_uci(move[0]))\n",
    "\n",
    "    if step == len(steps):\n",
    "        return b\n",
    "        \n",
    "    num_acts = [n for n, _ in steps[step][2]]\n",
    "    sum_num = sum(num_acts) + 1e-4\n",
    "    score = [v / sum_num for v in num_acts]\n",
    "    distr = sorted(zip(b.legal_moves, score), key=lambda p: p[1], reverse=True)\n",
    "    labels = widgets.HBox([\n",
    "        widgets.Label(value=f\"{m.uci()}\", style=dict(background=get_color(c)))\n",
    "        for m, c in distr\n",
    "    ])\n",
    "    out = widgets.Output()\n",
    "    with out:\n",
    "        display(SVG(data=b._repr_svg_()))\n",
    "    return widgets.VBox([out, labels])\n",
    "\n",
    "interact(f);"
   ]
  },
  {
   "cell_type": "code",
   "execution_count": 83,
   "metadata": {},
   "outputs": [],
   "source": [
    "outcome"
   ]
  },
  {
   "cell_type": "code",
   "execution_count": 10,
   "metadata": {},
   "outputs": [
    {
     "data": {
      "text/plain": [
       "[(Move.from_uci('a1e5'), 0.15999936000256, -2.0, 4),\n",
       " (Move.from_uci('a1b2'), 0.11999952000191999, -1.0, 3),\n",
       " (Move.from_uci('d3e4'), 0.07999968000128, 0.0, 2),\n",
       " (Move.from_uci('d3e3'), 0.07999968000128, 0.0, 2),\n",
       " (Move.from_uci('d3c2'), 0.07999968000128, 0.0, 2),\n",
       " (Move.from_uci('a1g7'), 0.07999968000128, 0.0, 2),\n",
       " (Move.from_uci('a1f6'), 0.07999968000128, 0.0, 2),\n",
       " (Move.from_uci('a1d4'), 0.07999968000128, 0.0, 2),\n",
       " (Move.from_uci('a1c3'), 0.07999968000128, 0.0, 2),\n",
       " (Move.from_uci('f3f4'), 0.07999968000128, 0.0, 2),\n",
       " (Move.from_uci('d3d4'), 0.03999984000064, 1.0, 1),\n",
       " (Move.from_uci('a1h8'), 0.03999984000064, 1.0, 1)]"
      ]
     },
     "execution_count": 10,
     "metadata": {},
     "output_type": "execute_result"
    }
   ],
   "source": [
    "step = 160\n",
    "b = chess.Board()\n",
    "for move in steps[0:step]:\n",
    "    b.push(chess.Move.from_uci(move[0]))\n",
    "    \n",
    "num_acts = [n for n, _ in steps[step][2]]\n",
    "q_values = [v for _, v in steps[step][2]]\n",
    "sum_num = sum(num_acts) + 1e-4\n",
    "score = [v / sum_num for v in num_acts]\n",
    "distr = sorted(zip(b.legal_moves, score, q_values, num_acts), key=lambda p: p[1], reverse=True)\n",
    "distr"
   ]
  },
  {
   "cell_type": "code",
   "execution_count": 100,
   "metadata": {},
   "outputs": [],
   "source": [
    "b = chess.Board()\n",
    "for move in steps:\n",
    "    b.push(chess.Move.from_uci(move[0]))"
   ]
  },
  {
   "cell_type": "code",
   "execution_count": 7,
   "metadata": {},
   "outputs": [
    {
     "name": "stdout",
     "output_type": "stream",
     "text": [
      "None\n"
     ]
    }
   ],
   "source": [
    "print(b.outcome(claim_draw=True))"
   ]
  },
  {
   "cell_type": "code",
   "execution_count": 8,
   "metadata": {},
   "outputs": [],
   "source": [
    "outcome"
   ]
  },
  {
   "cell_type": "code",
   "execution_count": 4,
   "metadata": {},
   "outputs": [],
   "source": [
    "import json\n",
    "import chess\n",
    "import libencoder\n",
    "\n",
    "with open(\"../trace1.json\", \"r\") as f:\n",
    "    trace = json.load(f)\n",
    "\n",
    "outcome = trace[\"outcome\"]\n",
    "steps = [(chess.Move.from_uci(step[0]), []) for step in trace[\"steps\"]]\n",
    "\n",
    "ds = libencoder.encode(steps)"
   ]
  },
  {
   "cell_type": "code",
   "execution_count": 14,
   "metadata": {},
   "outputs": [
    {
     "data": {
      "text/plain": [
       "<module 'libencoder' from '/home2/jiasen/workspace/smart-chess-rust/target/release/libencoder.so'>"
      ]
     },
     "execution_count": 14,
     "metadata": {},
     "output_type": "execute_result"
    }
   ],
   "source": [
    "from importlib import reload\n",
    "import train\n",
    "import libencoder\n",
    "reload(train)\n",
    "reload(libencoder)"
   ]
  },
  {
   "cell_type": "code",
   "execution_count": 11,
   "metadata": {},
   "outputs": [
    {
     "name": "stdout",
     "output_type": "stream",
     "text": [
      "..loading checkpoint:  ../runs/6/tb_logs/chess/version_1/checkpoints/epoch=3-step=2052.ckpt\n"
     ]
    }
   ],
   "source": [
    "import torch\n",
    "import nn\n",
    "model = nn.load_model(device=\"cpu\", checkpoint=\"../runs/6/tb_logs/chess/version_1/checkpoints/epoch=3-step=2052.ckpt\")"
   ]
  },
  {
   "cell_type": "code",
   "execution_count": 12,
   "metadata": {},
   "outputs": [],
   "source": [
    "def infer(fn, index):\n",
    "    ds = train.ChessDataset(fn)\n",
    "\n",
    "    board_enc = ds[index][0]\n",
    "    moves_enc = ds.steps[index][3]\n",
    "  \n",
    "    pi, value = model(board_enc.unsqueeze(0))\n",
    "    pi = torch.exp(pi.detach()).squeeze()\n",
    "\n",
    "    pi = pi[moves_enc]\n",
    "    pi = pi / pi.sum()\n",
    "\n",
    "    value = value.detach().squeeze()\n",
    "    return pi, value"
   ]
  },
  {
   "cell_type": "code",
   "execution_count": 17,
   "metadata": {},
   "outputs": [],
   "source": [
    "with open(\"../trace1.json\") as f:\n",
    "    trace = json.load(f)\n",
    "    \n",
    "step = 100\n",
    "prior, value = infer(\"../trace1.json\", step)\n",
    "total_n = sum([n for n, _ in trace[\"steps\"][step][2]])"
   ]
  },
  {
   "cell_type": "code",
   "execution_count": 18,
   "metadata": {},
   "outputs": [
    {
     "data": {
      "text/plain": [
       "(55,\n",
       " tensor([0.0843, 0.0286, 0.0785, 0.0128, 0.0233, 0.0453, 0.0219, 0.0333, 0.0152,\n",
       "         0.0282, 0.0252, 0.0191, 0.0519, 0.0927, 0.0470, 0.0119, 0.0730, 0.0709,\n",
       "         0.0147, 0.0299, 0.0233, 0.0230, 0.0237, 0.0220, 0.0530, 0.0232, 0.0240]))"
      ]
     },
     "execution_count": 18,
     "metadata": {},
     "output_type": "execute_result"
    }
   ],
   "source": [
    "total_n, prior"
   ]
  },
  {
   "cell_type": "code",
   "execution_count": 19,
   "metadata": {},
   "outputs": [],
   "source": [
    "def uct(prior, total_n, q_value, current_n, reverse, cpuct):\n",
    "    award = q_value / (current_n + 1e-5) * (-1 if reverse else 1)\n",
    "    exploration = math.sqrt(total_n) / (1 + current_n) * prior * cpuct\n",
    "    return (f\"{award + exploration:0.2f}\", f\"{award:0.2f}\", f\"{exploration:0.2f}\")"
   ]
  },
  {
   "cell_type": "code",
   "execution_count": 20,
   "metadata": {},
   "outputs": [
    {
     "data": {
      "text/plain": [
       "[(2, 0.0, '0.08', ('1.67', '0.00', '1.67')),\n",
       " (2, 0.0, '0.03', ('0.57', '0.00', '0.57')),\n",
       " (3, -1.0, '0.08', ('0.83', '-0.33', '1.16')),\n",
       " (2, 0.0, '0.01', ('0.25', '0.00', '0.25')),\n",
       " (2, 0.0, '0.02', ('0.46', '0.00', '0.46')),\n",
       " (2, 0.0, '0.05', ('0.90', '0.00', '0.90')),\n",
       " (3, -1.0, '0.02', ('-0.01', '-0.33', '0.33')),\n",
       " (3, -1.0, '0.03', ('0.16', '-0.33', '0.49')),\n",
       " (2, 0.0, '0.02', ('0.30', '0.00', '0.30')),\n",
       " (2, 0.0, '0.03', ('0.56', '0.00', '0.56')),\n",
       " (2, 0.0, '0.03', ('0.50', '0.00', '0.50')),\n",
       " (2, 0.0, '0.02', ('0.38', '0.00', '0.38')),\n",
       " (2, 0.0, '0.05', ('1.03', '0.00', '1.03')),\n",
       " (1, 1.0, '0.09', ('3.75', '1.00', '2.75')),\n",
       " (2, 0.0, '0.05', ('0.93', '0.00', '0.93')),\n",
       " (2, 0.0, '0.01', ('0.23', '0.00', '0.23')),\n",
       " (2, 0.0, '0.07', ('1.44', '0.00', '1.44')),\n",
       " (2, 0.0, '0.07', ('1.40', '0.00', '1.40')),\n",
       " (3, -1.0, '0.01', ('-0.12', '-0.33', '0.22')),\n",
       " (2, 0.0, '0.03', ('0.59', '0.00', '0.59')),\n",
       " (1, 1.0, '0.02', ('1.69', '1.00', '0.69')),\n",
       " (1, 1.0, '0.02', ('1.68', '1.00', '0.68')),\n",
       " (2, 0.0, '0.02', ('0.47', '0.00', '0.47')),\n",
       " (2, 0.0, '0.02', ('0.44', '0.00', '0.44')),\n",
       " (3, -1.0, '0.05', ('0.45', '-0.33', '0.79')),\n",
       " (1, 1.0, '0.02', ('1.69', '1.00', '0.69')),\n",
       " (2, 0.0, '0.02', ('0.47', '0.00', '0.47'))]"
      ]
     },
     "execution_count": 20,
     "metadata": {},
     "output_type": "execute_result"
    }
   ],
   "source": [
    "[(n, q, f\"{prior[i].item():0.2f}\", uct(prior[i].item(), total_n, q, n, False, 8)) for i, (n, q) in enumerate(trace[\"steps\"][step][2])]"
   ]
  },
  {
   "cell_type": "code",
   "execution_count": null,
   "metadata": {},
   "outputs": [],
   "source": []
  }
 ],
 "metadata": {
  "kernelspec": {
   "display_name": "Python 3 (ipykernel)",
   "language": "python",
   "name": "python3"
  },
  "language_info": {
   "codemirror_mode": {
    "name": "ipython",
    "version": 3
   },
   "file_extension": ".py",
   "mimetype": "text/x-python",
   "name": "python",
   "nbconvert_exporter": "python",
   "pygments_lexer": "ipython3",
   "version": "3.11.6"
  }
 },
 "nbformat": 4,
 "nbformat_minor": 4
}
