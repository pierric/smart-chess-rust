{
 "cells": [
  {
   "cell_type": "code",
   "execution_count": 50,
   "metadata": {},
   "outputs": [],
   "source": [
    "from ipywidgets import interactive, interact\n",
    "import ipywidgets as widgets\n",
    "from IPython.display import SVG, display\n",
    "from matplotlib import colormaps\n",
    "\n",
    "import json\n",
    "import chess"
   ]
  },
  {
   "cell_type": "code",
   "execution_count": 51,
   "metadata": {},
   "outputs": [],
   "source": [
    "cmap = colormaps[\"PuRd\"]\n",
    "\n",
    "def hexify(f):\n",
    "    assert f >= 0 and f <= 1\n",
    "    return f\"{int(f * 255):02x}\"\n",
    "\n",
    "def get_color(val):\n",
    "    if val < 1e-3:\n",
    "        return f\"#ffffff77\"\n",
    "    r, g, b, _ = cmap(val)\n",
    "    return f\"#{hexify(r)}{hexify(g)}{hexify(b)}ff\"    "
   ]
  },
  {
   "cell_type": "code",
   "execution_count": 52,
   "metadata": {},
   "outputs": [
    {
     "data": {
      "application/vnd.jupyter.widget-view+json": {
       "model_id": "e75f9a3714a946889bb906d9b176ad25",
       "version_major": 2,
       "version_minor": 0
      },
      "text/plain": [
       "interactive(children=(IntSlider(value=0, description='step', max=200), Output()), _dom_classes=('widget-intera…"
      ]
     },
     "metadata": {},
     "output_type": "display_data"
    }
   ],
   "source": [
    "with open(\"../trace1.json\") as f:\n",
    "    trace = json.load(f)\n",
    "\n",
    "outcome = trace[\"outcome\"]\n",
    "steps = trace[\"steps\"]\n",
    "    \n",
    "def f(step=widgets.IntSlider(min=0, max=len(steps), step=1, value=0)):\n",
    "    b = chess.Board()\n",
    "    for move in steps[0:step]:\n",
    "        b.push(chess.Move.from_uci(move[0]))\n",
    "\n",
    "    if step == len(steps):\n",
    "        return b\n",
    "        \n",
    "    num_acts = [n for n, _ in steps[step][2]]\n",
    "    sum_num = sum(num_acts) + 1e-4\n",
    "    score = [v / sum_num for v in num_acts]\n",
    "    distr = sorted(zip(b.legal_moves, score), key=lambda p: p[1], reverse=True)\n",
    "    labels = widgets.HBox([\n",
    "        widgets.Label(value=f\"{m.uci()}\", style=dict(background=get_color(c)))\n",
    "        for m, c in distr\n",
    "    ])\n",
    "    out = widgets.Output()\n",
    "    with out:\n",
    "        display(SVG(data=b._repr_svg_()))\n",
    "    return widgets.VBox([out, labels])\n",
    "\n",
    "interact(f);"
   ]
  },
  {
   "cell_type": "code",
   "execution_count": 4,
   "metadata": {},
   "outputs": [
    {
     "data": {
      "text/plain": [
       "{'termination': 'Checkmate', 'winner': 'White'}"
      ]
     },
     "execution_count": 4,
     "metadata": {},
     "output_type": "execute_result"
    }
   ],
   "source": [
    "outcome"
   ]
  },
  {
   "cell_type": "code",
   "execution_count": 61,
   "metadata": {},
   "outputs": [
    {
     "data": {
      "text/plain": [
       "[(Move.from_uci('g1f1'), 0.999998780489292, -5.691145896911621, 82)]"
      ]
     },
     "execution_count": 61,
     "metadata": {},
     "output_type": "execute_result"
    }
   ],
   "source": [
    "step = 66\n",
    "b = chess.Board()\n",
    "for move in steps[0:step]:\n",
    "    b.push(chess.Move.from_uci(move[0]))\n",
    "    \n",
    "num_acts = [n for n, _ in steps[step][2]]\n",
    "q_values = [v for _, v in steps[step][2]]\n",
    "sum_num = sum(num_acts) + 1e-4\n",
    "score = [v / sum_num for v in num_acts]\n",
    "distr = sorted(zip(b.legal_moves, score, q_values, num_acts), key=lambda p: p[1], reverse=True)\n",
    "distr"
   ]
  },
  {
   "cell_type": "code",
   "execution_count": 20,
   "metadata": {},
   "outputs": [],
   "source": [
    "b = chess.Board()\n",
    "for move in steps:\n",
    "    b.push(chess.Move.from_uci(move[0]))"
   ]
  },
  {
   "cell_type": "code",
   "execution_count": 21,
   "metadata": {},
   "outputs": [
    {
     "name": "stdout",
     "output_type": "stream",
     "text": [
      "Outcome(termination=<Termination.INSUFFICIENT_MATERIAL: 3>, winner=None)\n"
     ]
    }
   ],
   "source": [
    "print(b.outcome(claim_draw=True))"
   ]
  },
  {
   "cell_type": "code",
   "execution_count": 7,
   "metadata": {},
   "outputs": [],
   "source": [
    "import json\n",
    "import chess\n",
    "with open(\"../trace0.json\", \"r\") as f:\n",
    "    trace = json.load(f)\n",
    "\n",
    "outcome = trace[\"outcome\"]\n",
    "steps = [chess.Move.from_uci(step[0]) for step in trace[\"steps\"]]\n",
    "\n",
    "ds = libencoder.encode(steps)"
   ]
  },
  {
   "cell_type": "code",
   "execution_count": 12,
   "metadata": {},
   "outputs": [
    {
     "data": {
      "text/plain": [
       "((8, 8, 112), (8, 8, 7))"
      ]
     },
     "execution_count": 12,
     "metadata": {},
     "output_type": "execute_result"
    }
   ],
   "source": [
    "ds[0][0].shape, ds[0][1].shape"
   ]
  },
  {
   "cell_type": "code",
   "execution_count": 42,
   "metadata": {},
   "outputs": [
    {
     "data": {
      "text/plain": [
       "<module 'train' from '/home2/jiasen/workspace/smart-chess-rust/scripts/train.py'>"
      ]
     },
     "execution_count": 42,
     "metadata": {},
     "output_type": "execute_result"
    }
   ],
   "source": [
    "from importlib import reload\n",
    "import train\n",
    "reload(train)"
   ]
  },
  {
   "cell_type": "code",
   "execution_count": 43,
   "metadata": {},
   "outputs": [],
   "source": [
    "ds = train.ChessDataset(\"../trace0.json\")"
   ]
  },
  {
   "cell_type": "code",
   "execution_count": 49,
   "metadata": {},
   "outputs": [
    {
     "data": {
      "text/plain": [
       "[[8, -0.545457124710083],\n",
       " [4, -0.26363980770111084],\n",
       " [3, -0.19901640713214874],\n",
       " [5, -0.3374854326248169],\n",
       " [6, -0.39405208826065063],\n",
       " [5, -0.3272572159767151],\n",
       " [3, -0.1917077898979187],\n",
       " [3, -0.1917077898979187],\n",
       " [3, -0.1917077898979187],\n",
       " [3, -0.1917077898979187],\n",
       " [3, -0.1917077898979187],\n",
       " [2, -0.12491290271282196],\n",
       " [1, -0.05811801925301552],\n",
       " [4, -0.25850266218185425],\n",
       " [2, -0.12491290271282196],\n",
       " [6, -0.3960117697715759],\n",
       " [4, -0.26046234369277954],\n",
       " [3, -0.1917077898979187],\n",
       " [5, -0.3272572159767151],\n",
       " [6, -0.3899209499359131]]"
      ]
     },
     "execution_count": 49,
     "metadata": {},
     "output_type": "execute_result"
    }
   ],
   "source": [
    "trace[\"steps\"][0][2]"
   ]
  },
  {
   "cell_type": "code",
   "execution_count": null,
   "metadata": {},
   "outputs": [],
   "source": []
  }
 ],
 "metadata": {
  "kernelspec": {
   "display_name": "Python 3 (ipykernel)",
   "language": "python",
   "name": "python3"
  },
  "language_info": {
   "codemirror_mode": {
    "name": "ipython",
    "version": 3
   },
   "file_extension": ".py",
   "mimetype": "text/x-python",
   "name": "python",
   "nbconvert_exporter": "python",
   "pygments_lexer": "ipython3",
   "version": "3.11.6"
  }
 },
 "nbformat": 4,
 "nbformat_minor": 4
}
