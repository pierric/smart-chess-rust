{
 "cells": [
  {
   "cell_type": "code",
   "execution_count": 24,
   "metadata": {},
   "outputs": [],
   "source": [
    "from ipywidgets import interactive, interact\n",
    "import ipywidgets as widgets\n",
    "from IPython.display import SVG, display\n",
    "from matplotlib import colormaps\n",
    "\n",
    "import json\n",
    "import math\n",
    "import chess"
   ]
  },
  {
   "cell_type": "code",
   "execution_count": 25,
   "metadata": {},
   "outputs": [],
   "source": [
    "cmap = colormaps[\"PuRd\"]\n",
    "\n",
    "def hexify(f):\n",
    "    assert f >= 0 and f <= 1\n",
    "    return f\"{int(f * 255):02x}\"\n",
    "\n",
    "def get_color(val):\n",
    "    if val < 1e-3:\n",
    "        return f\"#ffffff77\"\n",
    "    r, g, b, _ = cmap(val)\n",
    "    return f\"#{hexify(r)}{hexify(g)}{hexify(b)}ff\"    "
   ]
  },
  {
   "cell_type": "code",
   "execution_count": 39,
   "metadata": {},
   "outputs": [],
   "source": [
    "# filename = \"../runs/69/trace1.json\"\n",
    "filename = \"../trace1.json\""
   ]
  },
  {
   "cell_type": "code",
   "execution_count": 40,
   "metadata": {},
   "outputs": [
    {
     "data": {
      "application/vnd.jupyter.widget-view+json": {
       "model_id": "33a2ed74e9e04dda861672833ed28368",
       "version_major": 2,
       "version_minor": 0
      },
      "text/plain": [
       "interactive(children=(IntSlider(value=0, description='step', max=300), Output()), _dom_classes=('widget-intera…"
      ]
     },
     "metadata": {},
     "output_type": "display_data"
    }
   ],
   "source": [
    "with open(filename) as f:\n",
    "    trace = json.load(f)\n",
    "\n",
    "outcome = trace[\"outcome\"]\n",
    "steps = trace[\"steps\"]\n",
    "    \n",
    "def f(step=widgets.IntSlider(min=0, max=len(steps), step=1, value=0)):\n",
    "    b = chess.Board()\n",
    "    for move in steps[0:step]:\n",
    "        b.push(chess.Move.from_uci(move[0]))\n",
    "\n",
    "    if step == len(steps):\n",
    "        return b\n",
    "        \n",
    "    num_acts = [n for n, _ in steps[step][2]]\n",
    "    sum_num = sum(num_acts) + 1e-4\n",
    "    score = [v / sum_num for v in num_acts]\n",
    "    distr = sorted(zip(b.legal_moves, score), key=lambda p: p[1], reverse=True)\n",
    "    labels = widgets.HBox([\n",
    "        widgets.Label(value=f\"{m.uci()}\", style=dict(background=get_color(c)))\n",
    "        for m, c in distr\n",
    "    ])\n",
    "    out = widgets.Output()\n",
    "    with out:\n",
    "        display(SVG(data=b._repr_svg_()))\n",
    "    return widgets.VBox([out, labels])\n",
    "\n",
    "interact(f);"
   ]
  },
  {
   "cell_type": "code",
   "execution_count": 29,
   "metadata": {},
   "outputs": [
    {
     "data": {
      "text/plain": [
       "{'termination': 'Checkmate', 'winner': 'Black'}"
      ]
     },
     "execution_count": 29,
     "metadata": {},
     "output_type": "execute_result"
    }
   ],
   "source": [
    "outcome"
   ]
  },
  {
   "cell_type": "code",
   "execution_count": 37,
   "metadata": {},
   "outputs": [],
   "source": [
    "def replay(trace, step):\n",
    "    steps = trace[\"steps\"]\n",
    "    b = chess.Board()\n",
    "    for move in steps[0:step]:\n",
    "        b.push(chess.Move.from_uci(move[0]))\n",
    "\n",
    "    num_acts = [n for n, _ in steps[step][2]]\n",
    "    q_values = [v for _, v in steps[step][2]]\n",
    "    sum_num = sum(num_acts) + 1e-4\n",
    "    score = [v / sum_num for v in num_acts]\n",
    "    return list(zip(b.legal_moves, score, q_values, num_acts))"
   ]
  },
  {
   "cell_type": "code",
   "execution_count": 41,
   "metadata": {},
   "outputs": [
    {
     "data": {
      "text/plain": [
       "[(Move.from_uci('a6c4'), 0.11797746181041471, -3.0, 21),\n",
       " (Move.from_uci('a3b4'), 0.07303366683501863, 1.0, 13),\n",
       " (Move.from_uci('a6c8'), 0.0561797437192451, 0.0, 10),\n",
       " (Move.from_uci('a6e2'), 0.0561797437192451, 0.0, 10),\n",
       " (Move.from_uci('a6b7'), 0.05056176934732059, 1.0, 9),\n",
       " (Move.from_uci('b3c3'), 0.05056176934732059, -1.0, 9),\n",
       " (Move.from_uci('a6g6'), 0.04494379497539608, -2.0, 8),\n",
       " (Move.from_uci('a6a5'), 0.04494379497539608, 2.0, 8),\n",
       " (Move.from_uci('a6b6'), 0.03932582060347157, -1.0, 7),\n",
       " (Move.from_uci('a6b5'), 0.03932582060347157, -1.0, 7),\n",
       " (Move.from_uci('a6f1'), 0.03932582060347157, -1.0, 7),\n",
       " (Move.from_uci('a6e6'), 0.03370784623154706, -2.0, 6),\n",
       " (Move.from_uci('a3b2'), 0.03370784623154706, 0.0, 6),\n",
       " (Move.from_uci('a6a8'), 0.02808987185962255, -1.0, 5),\n",
       " (Move.from_uci('a6a7'), 0.02808987185962255, -1.0, 5),\n",
       " (Move.from_uci('a6f6'), 0.02808987185962255, -1.0, 5),\n",
       " (Move.from_uci('a6d6'), 0.02808987185962255, -1.0, 5),\n",
       " (Move.from_uci('a6d3'), 0.02808987185962255, -1.0, 5),\n",
       " (Move.from_uci('a4e8'), 0.02808987185962255, -1.0, 5),\n",
       " (Move.from_uci('a4d7'), 0.02808987185962255, -1.0, 5),\n",
       " (Move.from_uci('a3a2'), 0.02808987185962255, -1.0, 5),\n",
       " (Move.from_uci('d5d6'), 0.02808987185962255, -1.0, 5),\n",
       " (Move.from_uci('a6h6'), 0.01685392311577353, -1.0, 3),\n",
       " (Move.from_uci('a6c6'), 0.01685392311577353, -1.0, 3),\n",
       " (Move.from_uci('a4c6'), 0.01685392311577353, -1.0, 3),\n",
       " (Move.from_uci('a4b5'), 0.01685392311577353, -1.0, 3)]"
      ]
     },
     "execution_count": 41,
     "metadata": {},
     "output_type": "execute_result"
    }
   ],
   "source": [
    "distr = replay(trace, 230)\n",
    "distr = sorted(distr, key=lambda p: p[1], reverse=True)\n",
    "distr"
   ]
  },
  {
   "cell_type": "code",
   "execution_count": 100,
   "metadata": {},
   "outputs": [],
   "source": [
    "b = chess.Board()\n",
    "for move in steps:\n",
    "    b.push(chess.Move.from_uci(move[0]))"
   ]
  },
  {
   "cell_type": "code",
   "execution_count": 39,
   "metadata": {},
   "outputs": [
    {
     "name": "stdout",
     "output_type": "stream",
     "text": [
      "None\n"
     ]
    }
   ],
   "source": [
    "print(b.outcome(claim_draw=True))"
   ]
  },
  {
   "cell_type": "code",
   "execution_count": 40,
   "metadata": {},
   "outputs": [
    {
     "data": {
      "text/plain": [
       "{'termination': 'Checkmate', 'winner': 'Black'}"
      ]
     },
     "execution_count": 40,
     "metadata": {},
     "output_type": "execute_result"
    }
   ],
   "source": [
    "outcome"
   ]
  },
  {
   "cell_type": "code",
   "execution_count": 41,
   "metadata": {},
   "outputs": [],
   "source": [
    "import json\n",
    "import chess\n",
    "import libencoder\n",
    "\n",
    "with open(\"../trace1.json\", \"r\") as f:\n",
    "    trace = json.load(f)\n",
    "\n",
    "outcome = trace[\"outcome\"]\n",
    "steps = [(chess.Move.from_uci(step[0]), []) for step in trace[\"steps\"]]\n",
    "\n",
    "ds = libencoder.encode(steps)"
   ]
  },
  {
   "cell_type": "code",
   "execution_count": 42,
   "metadata": {},
   "outputs": [
    {
     "data": {
      "text/plain": [
       "<module 'libencoder' from '/home2/jiasen/workspace/smart-chess-rust/target/release/libencoder.so'>"
      ]
     },
     "execution_count": 42,
     "metadata": {},
     "output_type": "execute_result"
    }
   ],
   "source": [
    "from importlib import reload\n",
    "import train\n",
    "import libencoder\n",
    "reload(train)\n",
    "reload(libencoder)"
   ]
  },
  {
   "cell_type": "code",
   "execution_count": 44,
   "metadata": {},
   "outputs": [
    {
     "name": "stdout",
     "output_type": "stream",
     "text": [
      "..loading checkpoint:  ../runs/121/tb_logs/chess/version_0/checkpoints/epoch=2-step=3126.ckpt\n"
     ]
    }
   ],
   "source": [
    "import torch\n",
    "import nn\n",
    "model = nn.load_model(device=\"cpu\", checkpoint=\"../runs/121/tb_logs/chess/version_0/checkpoints/epoch=2-step=3126.ckpt\")"
   ]
  },
  {
   "cell_type": "code",
   "execution_count": 45,
   "metadata": {},
   "outputs": [],
   "source": [
    "def infer(fn, index):\n",
    "    ds = train.ChessDataset(fn)\n",
    "\n",
    "    board_enc = ds[index][0]\n",
    "    moves_enc = ds.steps[index][3]\n",
    "  \n",
    "    pi, value = model(board_enc.unsqueeze(0))\n",
    "    pi = torch.exp(pi.detach()).squeeze()\n",
    "\n",
    "    pi = pi[moves_enc]\n",
    "    pi = pi / pi.sum()\n",
    "\n",
    "    value = value.detach().squeeze()\n",
    "    return pi, value"
   ]
  },
  {
   "cell_type": "code",
   "execution_count": 46,
   "metadata": {},
   "outputs": [
    {
     "name": "stderr",
     "output_type": "stream",
     "text": [
      "skipping cudagraphs for unknown reason\n"
     ]
    }
   ],
   "source": [
    "with open(filename) as f:\n",
    "    trace = json.load(f)\n",
    "    \n",
    "step = 230\n",
    "prior, value = infer(filename, step)\n",
    "total_n = sum([n for n, _ in trace[\"steps\"][step][2]])\n",
    "\n",
    "distr = replay(trace, step)"
   ]
  },
  {
   "cell_type": "code",
   "execution_count": 47,
   "metadata": {},
   "outputs": [
    {
     "data": {
      "text/plain": [
       "(178,\n",
       " tensor([0.0327, 0.0037, 0.0161, 0.0025, 0.0546, 0.1160, 0.0126, 0.0099, 0.0118,\n",
       "         0.1965, 0.0166, 0.0030, 0.0776, 0.0054, 0.0264, 0.0088, 0.0096, 0.0798,\n",
       "         0.0512, 0.0961, 0.0037, 0.0646, 0.0112, 0.0364, 0.0198, 0.0334]))"
      ]
     },
     "execution_count": 47,
     "metadata": {},
     "output_type": "execute_result"
    }
   ],
   "source": [
    "total_n, prior"
   ]
  },
  {
   "cell_type": "code",
   "execution_count": 48,
   "metadata": {},
   "outputs": [],
   "source": [
    "next_moves = [n[0] for n in distr]"
   ]
  },
  {
   "cell_type": "code",
   "execution_count": 49,
   "metadata": {},
   "outputs": [],
   "source": [
    "def uct(prior, total_n, q_value, current_n, reverse, cpuct):\n",
    "    award = q_value / (current_n + 1e-5) * (-1 if reverse else 1)\n",
    "    exploration = math.sqrt(total_n) / (1 + current_n) * prior * cpuct\n",
    "    return (f\"{award + exploration:0.2f}\", f\"{award:0.2f}\", f\"{exploration:0.2f}\")"
   ]
  },
  {
   "cell_type": "code",
   "execution_count": 53,
   "metadata": {},
   "outputs": [
    {
     "data": {
      "text/plain": [
       "[(Move.from_uci('a6c8'), 10, 0.0, '0.033', ('0.08', '0.00', '0.08')),\n",
       " (Move.from_uci('a6a8'), 5, -1.0, '0.004', ('-0.18', '-0.20', '0.02')),\n",
       " (Move.from_uci('a6b7'), 9, 1.0, '0.016', ('0.15', '0.11', '0.04')),\n",
       " (Move.from_uci('a6a7'), 5, -1.0, '0.003', ('-0.19', '-0.20', '0.01')),\n",
       " (Move.from_uci('a6h6'), 3, -1.0, '0.055', ('0.03', '-0.33', '0.36')),\n",
       " (Move.from_uci('a6g6'), 8, -2.0, '0.116', ('0.09', '-0.25', '0.34')),\n",
       " (Move.from_uci('a6f6'), 5, -1.0, '0.013', ('-0.14', '-0.20', '0.06')),\n",
       " (Move.from_uci('a6e6'), 6, -2.0, '0.010', ('-0.30', '-0.33', '0.04')),\n",
       " (Move.from_uci('a6d6'), 5, -1.0, '0.012', ('-0.15', '-0.20', '0.05')),\n",
       " (Move.from_uci('a6c6'), 3, -1.0, '0.197', ('0.98', '-0.33', '1.31')),\n",
       " (Move.from_uci('a6b6'), 7, -1.0, '0.017', ('-0.09', '-0.14', '0.06')),\n",
       " (Move.from_uci('a6b5'), 7, -1.0, '0.003', ('-0.13', '-0.14', '0.01')),\n",
       " (Move.from_uci('a6a5'), 8, 2.0, '0.078', ('0.48', '0.25', '0.23')),\n",
       " (Move.from_uci('a6c4'), 21, -3.0, '0.005', ('-0.14', '-0.14', '0.01')),\n",
       " (Move.from_uci('a6d3'), 5, -1.0, '0.026', ('-0.08', '-0.20', '0.12')),\n",
       " (Move.from_uci('a6e2'), 10, 0.0, '0.009', ('0.02', '0.00', '0.02')),\n",
       " (Move.from_uci('a6f1'), 7, -1.0, '0.010', ('-0.11', '-0.14', '0.03')),\n",
       " (Move.from_uci('a4e8'), 5, -1.0, '0.080', ('0.15', '-0.20', '0.35')),\n",
       " (Move.from_uci('a4d7'), 5, -1.0, '0.051', ('0.03', '-0.20', '0.23')),\n",
       " (Move.from_uci('a4c6'), 3, -1.0, '0.096', ('0.31', '-0.33', '0.64')),\n",
       " (Move.from_uci('a4b5'), 3, -1.0, '0.004', ('-0.31', '-0.33', '0.02')),\n",
       " (Move.from_uci('b3c3'), 9, -1.0, '0.065', ('0.06', '-0.11', '0.17')),\n",
       " (Move.from_uci('a3b4'), 13, 1.0, '0.011', ('0.10', '0.08', '0.02')),\n",
       " (Move.from_uci('a3b2'), 6, 0.0, '0.036', ('0.14', '0.00', '0.14')),\n",
       " (Move.from_uci('a3a2'), 5, -1.0, '0.020', ('-0.11', '-0.20', '0.09')),\n",
       " (Move.from_uci('d5d6'), 5, -1.0, '0.033', ('-0.05', '-0.20', '0.15'))]"
      ]
     },
     "execution_count": 53,
     "metadata": {},
     "output_type": "execute_result"
    }
   ],
   "source": [
    "[(next_moves[i], n, q, f\"{prior[i].item():0.3f}\", uct(prior[i].item(), total_n, q, n, False, 2.0)) for i, (n, q) in enumerate(trace[\"steps\"][step][2])]"
   ]
  },
  {
   "cell_type": "code",
   "execution_count": 59,
   "metadata": {},
   "outputs": [
    {
     "data": {
      "text/plain": [
       "('-0.29', '-0.30', '0.01')"
      ]
     },
     "execution_count": 59,
     "metadata": {},
     "output_type": "execute_result"
    }
   ],
   "source": [
    "uct(prior[13].item(), 120, -3.0, 10, False, 2.0)"
   ]
  },
  {
   "cell_type": "code",
   "execution_count": 52,
   "metadata": {},
   "outputs": [
    {
     "data": {
      "text/plain": [
       "178"
      ]
     },
     "execution_count": 52,
     "metadata": {},
     "output_type": "execute_result"
    }
   ],
   "source": [
    "total_n"
   ]
  },
  {
   "cell_type": "code",
   "execution_count": null,
   "metadata": {},
   "outputs": [],
   "source": []
  }
 ],
 "metadata": {
  "kernelspec": {
   "display_name": "Python 3 (ipykernel)",
   "language": "python",
   "name": "python3"
  },
  "language_info": {
   "codemirror_mode": {
    "name": "ipython",
    "version": 3
   },
   "file_extension": ".py",
   "mimetype": "text/x-python",
   "name": "python",
   "nbconvert_exporter": "python",
   "pygments_lexer": "ipython3",
   "version": "3.11.6"
  }
 },
 "nbformat": 4,
 "nbformat_minor": 4
}
