{
 "cells": [
  {
   "cell_type": "code",
   "execution_count": 1,
   "metadata": {},
   "outputs": [],
   "source": [
    "from ipywidgets import interactive, interact\n",
    "import ipywidgets as widgets\n",
    "from IPython.display import SVG, display\n",
    "from matplotlib import colormaps\n",
    "\n",
    "import json\n",
    "import math\n",
    "import chess"
   ]
  },
  {
   "cell_type": "code",
   "execution_count": 2,
   "metadata": {},
   "outputs": [],
   "source": [
    "cmap = colormaps[\"PuRd\"]\n",
    "\n",
    "def hexify(f):\n",
    "    assert f >= 0 and f <= 1\n",
    "    return f\"{int(f * 255):02x}\"\n",
    "\n",
    "def get_color(val):\n",
    "    if val < 1e-3:\n",
    "        return f\"#ffffff77\"\n",
    "    r, g, b, _ = cmap(val)\n",
    "    return f\"#{hexify(r)}{hexify(g)}{hexify(b)}ff\"    "
   ]
  },
  {
   "cell_type": "code",
   "execution_count": 19,
   "metadata": {},
   "outputs": [],
   "source": [
    "filename = \"../runs/15/trace2.json\"\n",
    "# filename = \"../debug-traces/trace4.json\"\n",
    "# filename = \"../trace2.json\"\n",
    "# filename = \"../replay.json\""
   ]
  },
  {
   "cell_type": "code",
   "execution_count": 20,
   "metadata": {},
   "outputs": [
    {
     "data": {
      "application/vnd.jupyter.widget-view+json": {
       "model_id": "e048926eaf3c43faad9955526600421f",
       "version_major": 2,
       "version_minor": 0
      },
      "text/plain": [
       "interactive(children=(IntSlider(value=0, description='step', max=5), Output()), _dom_classes=('widget-interact…"
      ]
     },
     "metadata": {},
     "output_type": "display_data"
    }
   ],
   "source": [
    "with open(filename) as f:\n",
    "    trace = json.load(f)\n",
    "\n",
    "outcome = trace[\"outcome\"]\n",
    "steps = trace[\"steps\"]\n",
    "    \n",
    "def f(step=widgets.IntSlider(min=0, max=len(steps), step=1, value=0)):\n",
    "    b = chess.Board()\n",
    "    for move in steps[0:step]:\n",
    "        b.push(chess.Move.from_uci(move[0]))\n",
    "\n",
    "    if step == len(steps):\n",
    "        return b\n",
    "\n",
    "    moves = [m for m, _, _ in steps[step][2]]\n",
    "    num_acts = [n for _, n, _ in steps[step][2]]\n",
    "    sum_num = sum(num_acts) + 1e-4\n",
    "    score = [v / sum_num for v in num_acts]\n",
    "    distr = sorted(zip(moves, score), key=lambda p: p[1], reverse=True)\n",
    "    labels = widgets.HBox([\n",
    "        widgets.Label(value=f\"{m}\", style=dict(background=get_color(c)))\n",
    "        for m, c in distr\n",
    "    ])\n",
    "    out = widgets.Output()\n",
    "    with out:\n",
    "        display(SVG(data=b._repr_svg_()))\n",
    "    return widgets.VBox([out, labels])\n",
    "\n",
    "interact(f);"
   ]
  },
  {
   "cell_type": "code",
   "execution_count": 18,
   "metadata": {},
   "outputs": [
    {
     "data": {
      "text/plain": [
       "{'termination': 'Checkmate', 'winner': 'White'}"
      ]
     },
     "execution_count": 18,
     "metadata": {},
     "output_type": "execute_result"
    }
   ],
   "source": [
    "outcome"
   ]
  },
  {
   "cell_type": "code",
   "execution_count": 6,
   "metadata": {},
   "outputs": [],
   "source": [
    "def replay(trace, step):\n",
    "    steps = trace[\"steps\"]\n",
    "    b = chess.Board()\n",
    "    for move in steps[0:step]:\n",
    "        b.push(chess.Move.from_uci(move[0]))\n",
    "\n",
    "    moves, num_acts, q_values = zip(*steps[step][2])\n",
    "    num_acts = [n for _, n, _ in steps[step][2]]\n",
    "    q_values = [v for _, _, v in steps[step][2]]\n",
    "    sum_num = sum(num_acts) + 1e-4\n",
    "    score = [v / sum_num for v in num_acts]\n",
    "    return b, list(zip(moves, score, q_values, num_acts))"
   ]
  },
  {
   "cell_type": "code",
   "execution_count": 21,
   "metadata": {},
   "outputs": [
    {
     "data": {
      "text/plain": [
       "[('b8c6', 0.08823516436005241, 0.0689985454082489, 6),\n",
       " ('c7c6', 0.08823516436005241, 0.07015839219093323, 6),\n",
       " ('g5g4', 0.07352930363337701, 0.053960297256708145, 5),\n",
       " ('g8h6', 0.058823442906701606, 0.029189247637987137, 4),\n",
       " ('f8g7', 0.058823442906701606, 0.029189247637987137, 4),\n",
       " ('f7f6', 0.058823442906701606, 0.035698674619197845, 4),\n",
       " ('d7d6', 0.058823442906701606, 0.036903463304042816, 4),\n",
       " ('h7h5', 0.058823442906701606, 0.035698674619197845, 4),\n",
       " ('d7d5', 0.058823442906701606, 0.03630106896162033, 4),\n",
       " ('a7a5', 0.058823442906701606, 0.035698674619197845, 4),\n",
       " ('f8h6', 0.044117582180026205, 0.01602086052298546, 3),\n",
       " ('b8a6', 0.044117582180026205, 0.020511703565716743, 3),\n",
       " ('f7f5', 0.044117582180026205, 0.018641842529177666, 3),\n",
       " ('h7h6', 0.029411721453350803, -0.00022217445075511932, 2),\n",
       " ('e7e6', 0.029411721453350803, 0.00038021989166736603, 2),\n",
       " ('b7b6', 0.029411721453350803, -0.00022217445075511932, 2),\n",
       " ('e7e5', 0.029411721453350803, -0.00022217445075511932, 2),\n",
       " ('c7c5', 0.029411721453350803, -0.00022217445075511932, 2),\n",
       " ('b7b5', 0.029411721453350803, 0.00038021989166736603, 2),\n",
       " ('g8f6', 0.014705860726675402, -0.014806753024458885, 1),\n",
       " ('a7a6', 0.014705860726675402, -0.017881402745842934, 1)]"
      ]
     },
     "execution_count": 21,
     "metadata": {},
     "output_type": "execute_result"
    }
   ],
   "source": [
    "brd, distr = replay(trace, 3)\n",
    "distr = sorted(distr, key=lambda p: p[1], reverse=True)\n",
    "distr"
   ]
  },
  {
   "cell_type": "code",
   "execution_count": null,
   "metadata": {},
   "outputs": [],
   "source": [
    "brd.push(chess.Move.from_uci(\"e2h5\"))\n",
    "brd"
   ]
  },
  {
   "cell_type": "code",
   "execution_count": 30,
   "metadata": {},
   "outputs": [
    {
     "data": {
      "text/plain": [
       "[Move.from_uci('e8d8')]"
      ]
     },
     "execution_count": 30,
     "metadata": {},
     "output_type": "execute_result"
    }
   ],
   "source": [
    "list(brd.legal_moves)"
   ]
  },
  {
   "cell_type": "code",
   "execution_count": 52,
   "metadata": {},
   "outputs": [
    {
     "data": {
      "text/plain": [
       "{'termination': 'Checkmate', 'winner': 'White'}"
      ]
     },
     "execution_count": 52,
     "metadata": {},
     "output_type": "execute_result"
    }
   ],
   "source": [
    "outcome"
   ]
  },
  {
   "cell_type": "code",
   "execution_count": 4,
   "metadata": {},
   "outputs": [],
   "source": [
    "import json\n",
    "import chess\n",
    "import libencoder\n",
    "import torch\n",
    "import numpy as np\n",
    "\n",
    "with open(\"../runs/178/trace1.json\", \"r\") as f:\n",
    "    trace = json.load(f)\n",
    "\n",
    "outcome = trace[\"outcome\"]\n",
    "steps = [(chess.Move.from_uci(step[0]), []) for step in trace[\"steps\"]]\n",
    "\n",
    "ds = libencoder.encode(steps)"
   ]
  },
  {
   "cell_type": "code",
   "execution_count": 18,
   "metadata": {},
   "outputs": [
    {
     "data": {
      "text/plain": [
       "array([[ 1, 31,  0,  0,  0,  0,  0],\n",
       "       [ 1, 31,  0,  0,  0,  0,  0],\n",
       "       [ 1, 31,  0,  0,  0,  0,  0],\n",
       "       [ 1, 31,  0,  0,  0,  0,  0],\n",
       "       [ 1, 31,  0,  0,  0,  0,  0],\n",
       "       [ 1, 31,  0,  0,  0,  0,  0],\n",
       "       [ 1, 31,  0,  0,  0,  0,  0],\n",
       "       [ 1, 31,  0,  0,  0,  0,  0]], dtype=uint32)"
      ]
     },
     "execution_count": 18,
     "metadata": {},
     "output_type": "execute_result"
    }
   ],
   "source": [
    "boards, meta, dist, moves = ds[60]\n",
    "# inp = np.concatenate((boards, meta), axis=-1).astype(np.float32)\n",
    "# inp = inp.transpose((2, 0, 1))\n",
    "# print(np.linalg.norm(inp))\n",
    "# with torch.no_grad():\n",
    "#     ret_distr, ret_score = model(torch.from_numpy(inp).unsqueeze(dim=0))\n",
    "# ret_distr = ret_distr.detach().cpu().numpy().squeeze()\n",
    "# ret_distr = np.exp(ret_distr)\n",
    "# ret_score = ret_score.detach().cpu().item()\n",
    "# ret_distr, ret_score\n",
    "meta[0,:,:]"
   ]
  },
  {
   "cell_type": "code",
   "execution_count": 8,
   "metadata": {},
   "outputs": [
    {
     "data": {
      "text/plain": [
       "<module 'libencoder' from '/home2/jiasen/workspace/smart-chess-rust/target/release/libencoder.so'>"
      ]
     },
     "execution_count": 8,
     "metadata": {},
     "output_type": "execute_result"
    }
   ],
   "source": [
    "from importlib import reload\n",
    "import train\n",
    "import libencoder\n",
    "reload(train)\n",
    "reload(libencoder)"
   ]
  },
  {
   "cell_type": "code",
   "execution_count": 22,
   "metadata": {},
   "outputs": [
    {
     "name": "stdout",
     "output_type": "stream",
     "text": [
      "..loading checkpoint:  ../runs/14/tb_logs/chess/version_0/checkpoints/epoch=5-step=498.ckpt\n"
     ]
    }
   ],
   "source": [
    "import torch\n",
    "import nn\n",
    "model = nn.load_model(device=\"cpu\", checkpoint=\"../runs/14/tb_logs/chess/version_0/checkpoints/epoch=5-step=498.ckpt\")"
   ]
  },
  {
   "cell_type": "code",
   "execution_count": 23,
   "metadata": {},
   "outputs": [],
   "source": [
    "def infer(fn, index):\n",
    "    ds = train.ChessDataset(fn)\n",
    "\n",
    "    board_enc = ds[index][0]\n",
    "    moves_enc = ds.steps[index][3]\n",
    "  \n",
    "    pi, value = model(board_enc.unsqueeze(0))\n",
    "    pi = torch.exp(pi.detach()).squeeze()\n",
    "\n",
    "    pi = pi[moves_enc]\n",
    "    pi = pi / pi.sum()\n",
    "\n",
    "    value = value.detach().squeeze()\n",
    "    return pi, value"
   ]
  },
  {
   "cell_type": "code",
   "execution_count": 24,
   "metadata": {},
   "outputs": [
    {
     "name": "stderr",
     "output_type": "stream",
     "text": [
      "skipping cudagraphs for unknown reason\n"
     ]
    }
   ],
   "source": [
    "with open(filename) as f:\n",
    "    trace = json.load(f)\n",
    "\n",
    "step = 3\n",
    "prior, value = infer(filename, step)\n",
    "total_n = sum([n for _, n, _ in trace[\"steps\"][step][2]])\n",
    "\n",
    "distr = replay(trace, step)"
   ]
  },
  {
   "cell_type": "code",
   "execution_count": 25,
   "metadata": {},
   "outputs": [
    {
     "data": {
      "text/plain": [
       "(68,\n",
       " tensor([0.0450, 0.0493, 0.0460, 0.0523, 0.0492, 0.0468, 0.0468, 0.0474, 0.0476,\n",
       "         0.0466, 0.0477, 0.0478, 0.0489, 0.0502, 0.0469, 0.0450, 0.0467, 0.0480,\n",
       "         0.0475, 0.0484, 0.0458]),\n",
       " tensor(-0.0194))"
      ]
     },
     "execution_count": 25,
     "metadata": {},
     "output_type": "execute_result"
    }
   ],
   "source": [
    "total_n, prior, value"
   ]
  },
  {
   "cell_type": "code",
   "execution_count": 26,
   "metadata": {},
   "outputs": [],
   "source": [
    "def uct(prior, total_n, q_value, current_n, reverse, cpuct):\n",
    "    award = q_value / (current_n + 1e-5) * (-1 if reverse else 1)\n",
    "    exploration = math.sqrt(total_n) / (1 + current_n) * prior * cpuct\n",
    "    return (f\"{award + exploration:0.3f}\", f\"{award:0.3f}\", f\"{exploration:0.3f}\")"
   ]
  },
  {
   "cell_type": "code",
   "execution_count": 27,
   "metadata": {},
   "outputs": [
    {
     "data": {
      "text/html": [
       "<div>\n",
       "<style scoped>\n",
       "    .dataframe tbody tr th:only-of-type {\n",
       "        vertical-align: middle;\n",
       "    }\n",
       "\n",
       "    .dataframe tbody tr th {\n",
       "        vertical-align: top;\n",
       "    }\n",
       "\n",
       "    .dataframe thead th {\n",
       "        text-align: right;\n",
       "    }\n",
       "</style>\n",
       "<table border=\"1\" class=\"dataframe\">\n",
       "  <thead>\n",
       "    <tr style=\"text-align: right;\">\n",
       "      <th></th>\n",
       "      <th>move</th>\n",
       "      <th>nact</th>\n",
       "      <th>q</th>\n",
       "      <th>prior</th>\n",
       "      <th>uct</th>\n",
       "    </tr>\n",
       "  </thead>\n",
       "  <tbody>\n",
       "    <tr>\n",
       "      <th>0</th>\n",
       "      <td>g8h6</td>\n",
       "      <td>4</td>\n",
       "      <td>0.029189</td>\n",
       "      <td>0.045004</td>\n",
       "      <td>(0.000, -0.007, 0.007)</td>\n",
       "    </tr>\n",
       "    <tr>\n",
       "      <th>1</th>\n",
       "      <td>g8f6</td>\n",
       "      <td>1</td>\n",
       "      <td>-0.014807</td>\n",
       "      <td>0.049322</td>\n",
       "      <td>(0.035, 0.015, 0.020)</td>\n",
       "    </tr>\n",
       "    <tr>\n",
       "      <th>2</th>\n",
       "      <td>f8g7</td>\n",
       "      <td>4</td>\n",
       "      <td>0.029189</td>\n",
       "      <td>0.046023</td>\n",
       "      <td>(0.000, -0.007, 0.008)</td>\n",
       "    </tr>\n",
       "    <tr>\n",
       "      <th>3</th>\n",
       "      <td>f8h6</td>\n",
       "      <td>3</td>\n",
       "      <td>0.016021</td>\n",
       "      <td>0.052297</td>\n",
       "      <td>(0.005, -0.005, 0.011)</td>\n",
       "    </tr>\n",
       "    <tr>\n",
       "      <th>4</th>\n",
       "      <td>b8c6</td>\n",
       "      <td>6</td>\n",
       "      <td>0.068999</td>\n",
       "      <td>0.049162</td>\n",
       "      <td>(-0.006, -0.011, 0.006)</td>\n",
       "    </tr>\n",
       "    <tr>\n",
       "      <th>5</th>\n",
       "      <td>b8a6</td>\n",
       "      <td>3</td>\n",
       "      <td>0.020512</td>\n",
       "      <td>0.046841</td>\n",
       "      <td>(0.003, -0.007, 0.010)</td>\n",
       "    </tr>\n",
       "    <tr>\n",
       "      <th>6</th>\n",
       "      <td>h7h6</td>\n",
       "      <td>2</td>\n",
       "      <td>-0.000222</td>\n",
       "      <td>0.046814</td>\n",
       "      <td>(0.013, 0.000, 0.013)</td>\n",
       "    </tr>\n",
       "    <tr>\n",
       "      <th>7</th>\n",
       "      <td>f7f6</td>\n",
       "      <td>4</td>\n",
       "      <td>0.035699</td>\n",
       "      <td>0.047412</td>\n",
       "      <td>(-0.001, -0.009, 0.008)</td>\n",
       "    </tr>\n",
       "    <tr>\n",
       "      <th>8</th>\n",
       "      <td>e7e6</td>\n",
       "      <td>2</td>\n",
       "      <td>0.000380</td>\n",
       "      <td>0.047613</td>\n",
       "      <td>(0.013, -0.000, 0.013)</td>\n",
       "    </tr>\n",
       "    <tr>\n",
       "      <th>9</th>\n",
       "      <td>d7d6</td>\n",
       "      <td>4</td>\n",
       "      <td>0.036903</td>\n",
       "      <td>0.046608</td>\n",
       "      <td>(-0.002, -0.009, 0.008)</td>\n",
       "    </tr>\n",
       "    <tr>\n",
       "      <th>10</th>\n",
       "      <td>c7c6</td>\n",
       "      <td>6</td>\n",
       "      <td>0.070158</td>\n",
       "      <td>0.047721</td>\n",
       "      <td>(-0.006, -0.012, 0.006)</td>\n",
       "    </tr>\n",
       "    <tr>\n",
       "      <th>11</th>\n",
       "      <td>b7b6</td>\n",
       "      <td>2</td>\n",
       "      <td>-0.000222</td>\n",
       "      <td>0.047796</td>\n",
       "      <td>(0.013, 0.000, 0.013)</td>\n",
       "    </tr>\n",
       "    <tr>\n",
       "      <th>12</th>\n",
       "      <td>a7a6</td>\n",
       "      <td>1</td>\n",
       "      <td>-0.017881</td>\n",
       "      <td>0.048885</td>\n",
       "      <td>(0.038, 0.018, 0.020)</td>\n",
       "    </tr>\n",
       "    <tr>\n",
       "      <th>13</th>\n",
       "      <td>g5g4</td>\n",
       "      <td>5</td>\n",
       "      <td>0.053960</td>\n",
       "      <td>0.050230</td>\n",
       "      <td>(-0.004, -0.011, 0.007)</td>\n",
       "    </tr>\n",
       "    <tr>\n",
       "      <th>14</th>\n",
       "      <td>h7h5</td>\n",
       "      <td>4</td>\n",
       "      <td>0.035699</td>\n",
       "      <td>0.046890</td>\n",
       "      <td>(-0.001, -0.009, 0.008)</td>\n",
       "    </tr>\n",
       "    <tr>\n",
       "      <th>15</th>\n",
       "      <td>f7f5</td>\n",
       "      <td>3</td>\n",
       "      <td>0.018642</td>\n",
       "      <td>0.045042</td>\n",
       "      <td>(0.003, -0.006, 0.009)</td>\n",
       "    </tr>\n",
       "    <tr>\n",
       "      <th>16</th>\n",
       "      <td>e7e5</td>\n",
       "      <td>2</td>\n",
       "      <td>-0.000222</td>\n",
       "      <td>0.046710</td>\n",
       "      <td>(0.013, 0.000, 0.013)</td>\n",
       "    </tr>\n",
       "    <tr>\n",
       "      <th>17</th>\n",
       "      <td>d7d5</td>\n",
       "      <td>4</td>\n",
       "      <td>0.036301</td>\n",
       "      <td>0.047978</td>\n",
       "      <td>(-0.001, -0.009, 0.008)</td>\n",
       "    </tr>\n",
       "    <tr>\n",
       "      <th>18</th>\n",
       "      <td>c7c5</td>\n",
       "      <td>2</td>\n",
       "      <td>-0.000222</td>\n",
       "      <td>0.047493</td>\n",
       "      <td>(0.013, 0.000, 0.013)</td>\n",
       "    </tr>\n",
       "    <tr>\n",
       "      <th>19</th>\n",
       "      <td>b7b5</td>\n",
       "      <td>2</td>\n",
       "      <td>0.000380</td>\n",
       "      <td>0.048366</td>\n",
       "      <td>(0.013, -0.000, 0.013)</td>\n",
       "    </tr>\n",
       "    <tr>\n",
       "      <th>20</th>\n",
       "      <td>a7a5</td>\n",
       "      <td>4</td>\n",
       "      <td>0.035699</td>\n",
       "      <td>0.045793</td>\n",
       "      <td>(-0.001, -0.009, 0.008)</td>\n",
       "    </tr>\n",
       "  </tbody>\n",
       "</table>\n",
       "</div>"
      ],
      "text/plain": [
       "    move  nact         q     prior                      uct\n",
       "0   g8h6     4  0.029189  0.045004   (0.000, -0.007, 0.007)\n",
       "1   g8f6     1 -0.014807  0.049322    (0.035, 0.015, 0.020)\n",
       "2   f8g7     4  0.029189  0.046023   (0.000, -0.007, 0.008)\n",
       "3   f8h6     3  0.016021  0.052297   (0.005, -0.005, 0.011)\n",
       "4   b8c6     6  0.068999  0.049162  (-0.006, -0.011, 0.006)\n",
       "5   b8a6     3  0.020512  0.046841   (0.003, -0.007, 0.010)\n",
       "6   h7h6     2 -0.000222  0.046814    (0.013, 0.000, 0.013)\n",
       "7   f7f6     4  0.035699  0.047412  (-0.001, -0.009, 0.008)\n",
       "8   e7e6     2  0.000380  0.047613   (0.013, -0.000, 0.013)\n",
       "9   d7d6     4  0.036903  0.046608  (-0.002, -0.009, 0.008)\n",
       "10  c7c6     6  0.070158  0.047721  (-0.006, -0.012, 0.006)\n",
       "11  b7b6     2 -0.000222  0.047796    (0.013, 0.000, 0.013)\n",
       "12  a7a6     1 -0.017881  0.048885    (0.038, 0.018, 0.020)\n",
       "13  g5g4     5  0.053960  0.050230  (-0.004, -0.011, 0.007)\n",
       "14  h7h5     4  0.035699  0.046890  (-0.001, -0.009, 0.008)\n",
       "15  f7f5     3  0.018642  0.045042   (0.003, -0.006, 0.009)\n",
       "16  e7e5     2 -0.000222  0.046710    (0.013, 0.000, 0.013)\n",
       "17  d7d5     4  0.036301  0.047978  (-0.001, -0.009, 0.008)\n",
       "18  c7c5     2 -0.000222  0.047493    (0.013, 0.000, 0.013)\n",
       "19  b7b5     2  0.000380  0.048366   (0.013, -0.000, 0.013)\n",
       "20  a7a5     4  0.035699  0.045793  (-0.001, -0.009, 0.008)"
      ]
     },
     "execution_count": 27,
     "metadata": {},
     "output_type": "execute_result"
    }
   ],
   "source": [
    "rotate = step % 2 == 1\n",
    "import pandas as pd\n",
    "pd.DataFrame(\n",
    "    [(m, n, q, prior[i].item(), uct(prior[i].item(), total_n, q, n, rotate, 0.1)) for i, (m, n, q) in enumerate(trace[\"steps\"][step][2])],\n",
    "    columns=(\"move\", \"nact\", \"q\", \"prior\", \"uct\"),\n",
    ")"
   ]
  },
  {
   "cell_type": "code",
   "execution_count": null,
   "metadata": {},
   "outputs": [],
   "source": []
  },
  {
   "cell_type": "code",
   "execution_count": null,
   "metadata": {},
   "outputs": [],
   "source": []
  }
 ],
 "metadata": {
  "kernelspec": {
   "display_name": "Python 3 (ipykernel)",
   "language": "python",
   "name": "python3"
  },
  "language_info": {
   "codemirror_mode": {
    "name": "ipython",
    "version": 3
   },
   "file_extension": ".py",
   "mimetype": "text/x-python",
   "name": "python",
   "nbconvert_exporter": "python",
   "pygments_lexer": "ipython3",
   "version": "3.11.6"
  }
 },
 "nbformat": 4,
 "nbformat_minor": 4
}
